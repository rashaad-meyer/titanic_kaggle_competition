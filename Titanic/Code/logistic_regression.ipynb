{
 "cells": [
  {
   "cell_type": "markdown",
   "id": "cf781436",
   "metadata": {},
   "source": [
    "## Logistic Regression\n",
    "\n",
    "This notebook will consist of an implementation of logistic regression on the cleaned titanic data. This data was cleaned in notebook train_data_cleaning.ipynb. In this notebook, not only will I implement logistic regression but also find the most optimal solution of logistic regression"
   ]
  },
  {
   "cell_type": "code",
   "execution_count": null,
   "id": "1a1ca56e",
   "metadata": {},
   "outputs": [],
   "source": []
  }
 ],
 "metadata": {
  "kernelspec": {
   "display_name": "Python 3 (ipykernel)",
   "language": "python",
   "name": "python3"
  },
  "language_info": {
   "codemirror_mode": {
    "name": "ipython",
    "version": 3
   },
   "file_extension": ".py",
   "mimetype": "text/x-python",
   "name": "python",
   "nbconvert_exporter": "python",
   "pygments_lexer": "ipython3",
   "version": "3.9.12"
  }
 },
 "nbformat": 4,
 "nbformat_minor": 5
}
